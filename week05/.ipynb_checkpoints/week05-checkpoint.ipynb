{
 "cells": [
  {
   "cell_type": "markdown",
   "id": "c225aabd",
   "metadata": {},
   "source": [
    "# 本周内容\n",
    "\n",
    "> 1.有序的数据结构之列表\n",
    "\n",
    "> 2.用户输入\n",
    "\n",
    "> 3.关于格式化文本信息"
   ]
  },
  {
   "cell_type": "code",
   "execution_count": 93,
   "id": "55272b20",
   "metadata": {},
   "outputs": [],
   "source": [
    "网三_01_name = \"marry\"\n",
    "\n",
    "# 思考：如果想一个变量存放一个班同学的名字，该怎么存？\n",
    "# 思考：处理数据会不会比较麻烦？"
   ]
  },
  {
   "cell_type": "code",
   "execution_count": 96,
   "id": "e93c056a",
   "metadata": {},
   "outputs": [
    {
     "data": {
      "text/plain": [
       "'marry,alex,周晓明'"
      ]
     },
     "execution_count": 96,
     "metadata": {},
     "output_type": "execute_result"
    }
   ],
   "source": [
    "网三_name_list = \"marry,alex,周晓明\"\n",
    "网三_name_list"
   ]
  },
  {
   "cell_type": "code",
   "execution_count": 97,
   "id": "eb9d9b27",
   "metadata": {},
   "outputs": [
    {
     "data": {
      "text/plain": [
       "'alex'"
      ]
     },
     "execution_count": 97,
     "metadata": {},
     "output_type": "execute_result"
    }
   ],
   "source": [
    "网三_name_list[6:10]"
   ]
  },
  {
   "cell_type": "code",
   "execution_count": 98,
   "id": "a738aa88",
   "metadata": {},
   "outputs": [
    {
     "data": {
      "text/plain": [
       "14"
      ]
     },
     "execution_count": 98,
     "metadata": {},
     "output_type": "execute_result"
    }
   ],
   "source": [
    "# 思考：我想知道这个名单有多少个人名？\n",
    "len(网三_name_list)"
   ]
  },
  {
   "cell_type": "markdown",
   "id": "8e068b14",
   "metadata": {},
   "source": [
    "## 1.引入列表的概念\n",
    "* Lists might contain items of different types, but usually the items all have the same type\n",
    ". 注释，我们已经学习了数值和字符，list可以放数值和字符，但是通常要么放数值，要么放字符串\n",
    "\n",
    ". 总结一些通过的有序数据结构的方法：\n",
    ">> 1.取值：通过索引值取触对应的内容\n",
    ">> 2.切片：通过索引值区间取出对应的一些内容\n",
    ">> 3.in 可以查看成员对象是否存在"
   ]
  },
  {
   "cell_type": "code",
   "execution_count": 27,
   "id": "40421c3d",
   "metadata": {},
   "outputs": [
    {
     "ename": "TypeError",
     "evalue": "'tuple' object is not callable",
     "output_type": "error",
     "traceback": [
      "\u001b[1;31m---------------------------------------------------------------------------\u001b[0m",
      "\u001b[1;31mTypeError\u001b[0m                                 Traceback (most recent call last)",
      "\u001b[1;32m<ipython-input-27-32b2809174a8>\u001b[0m in \u001b[0;36m<module>\u001b[1;34m\u001b[0m\n\u001b[0;32m      1\u001b[0m \u001b[0ma\u001b[0m \u001b[1;33m=\u001b[0m \u001b[1;33m[\u001b[0m\u001b[1;36m1\u001b[0m\u001b[1;33m,\u001b[0m\u001b[1;36m2\u001b[0m\u001b[1;33m,\u001b[0m\u001b[1;36m3\u001b[0m\u001b[1;33m,\u001b[0m\u001b[1;36m4\u001b[0m\u001b[1;33m]\u001b[0m\u001b[1;33m\u001b[0m\u001b[1;33m\u001b[0m\u001b[0m\n\u001b[1;32m----> 2\u001b[1;33m \u001b[0mprint\u001b[0m\u001b[1;33m(\u001b[0m\u001b[0ma\u001b[0m\u001b[1;33m,\u001b[0m\u001b[0mtype\u001b[0m\u001b[1;33m(\u001b[0m\u001b[0ma\u001b[0m\u001b[1;33m)\u001b[0m\u001b[1;33m)\u001b[0m\u001b[1;33m\u001b[0m\u001b[1;33m\u001b[0m\u001b[0m\n\u001b[0m",
      "\u001b[1;31mTypeError\u001b[0m: 'tuple' object is not callable"
     ]
    }
   ],
   "source": [
    "a = [1,2,3,4]\n",
    "print(a,type(a))"
   ]
  },
  {
   "cell_type": "code",
   "execution_count": 42,
   "id": "59b604c6",
   "metadata": {},
   "outputs": [],
   "source": [
    "网三_name_list = [\"marry\",\"jack\",\"alex\",\"xiaoming\"]\n",
    "print = (网三_name_list,type(网三_name_list))"
   ]
  },
  {
   "cell_type": "markdown",
   "id": "5e7747cd",
   "metadata": {},
   "source": [
    "### 1.1 列表的运算法则\n",
    "* 列表的数据本身不做修改"
   ]
  },
  {
   "cell_type": "code",
   "execution_count": 43,
   "id": "fc06e133",
   "metadata": {},
   "outputs": [
    {
     "data": {
      "text/plain": [
       "'marry'"
      ]
     },
     "execution_count": 43,
     "metadata": {},
     "output_type": "execute_result"
    }
   ],
   "source": [
    "# 取出 网三_name_list 中第一位同学的名字\n",
    "网三_name_list[0]"
   ]
  },
  {
   "cell_type": "code",
   "execution_count": 101,
   "id": "ae948252",
   "metadata": {},
   "outputs": [],
   "source": [
    "for i in 网三_name_list:\n",
    "   (\"网三:\",i)"
   ]
  },
  {
   "cell_type": "code",
   "execution_count": 102,
   "id": "fb36616b",
   "metadata": {},
   "outputs": [
    {
     "data": {
      "text/plain": [
       "False"
      ]
     },
     "execution_count": 102,
     "metadata": {},
     "output_type": "execute_result"
    }
   ],
   "source": [
    "# 可以查询数据是否存在\n",
    "\"Jack\" in 网三_name_list"
   ]
  },
  {
   "cell_type": "code",
   "execution_count": 105,
   "id": "618afb98",
   "metadata": {},
   "outputs": [],
   "source": [
    "# 关于运算法则(in +切片 取值len（s）s.count)\n",
    "网三_name_list_转专业 = [\"xiaoming\",\"lihua\"]"
   ]
  },
  {
   "cell_type": "code",
   "execution_count": 104,
   "id": "d7f45569",
   "metadata": {},
   "outputs": [
    {
     "ename": "TypeError",
     "evalue": "can only concatenate str (not \"list\") to str",
     "output_type": "error",
     "traceback": [
      "\u001b[1;31m---------------------------------------------------------------------------\u001b[0m",
      "\u001b[1;31mTypeError\u001b[0m                                 Traceback (most recent call last)",
      "\u001b[1;32m<ipython-input-104-0d06475df3c4>\u001b[0m in \u001b[0;36m<module>\u001b[1;34m\u001b[0m\n\u001b[1;32m----> 1\u001b[1;33m \u001b[0m网三_name_list\u001b[0m \u001b[1;33m+\u001b[0m \u001b[0m网三_name_list_转专业\u001b[0m\u001b[1;33m\u001b[0m\u001b[1;33m\u001b[0m\u001b[0m\n\u001b[0m",
      "\u001b[1;31mTypeError\u001b[0m: can only concatenate str (not \"list\") to str"
     ]
    }
   ],
   "source": [
    "网三_name_list + 网三_name_list_转专业"
   ]
  },
  {
   "cell_type": "code",
   "execution_count": 36,
   "id": "7350980d",
   "metadata": {},
   "outputs": [],
   "source": [
    "# 思考“一个list可以不可以出现重复项\n",
    "网1_age_list = [18,19,18,19,20] "
   ]
  },
  {
   "cell_type": "code",
   "execution_count": 39,
   "id": "2106f78c",
   "metadata": {},
   "outputs": [
    {
     "data": {
      "text/plain": [
       "[18, 19, 18, 19, 20]"
      ]
     },
     "execution_count": 39,
     "metadata": {},
     "output_type": "execute_result"
    }
   ],
   "source": [
    "网1_age_list"
   ]
  },
  {
   "cell_type": "markdown",
   "id": "830d4051",
   "metadata": {},
   "source": [
    "### 2.2 列表的方法--对列表数据进行操作\n",
    "* 增\n",
    "* 删\n",
    "* 改\n",
    "* 查"
   ]
  },
  {
   "cell_type": "code",
   "execution_count": 109,
   "id": "a29ef5af",
   "metadata": {},
   "outputs": [],
   "source": [
    "网三_name_list = \"marry,alex,周晓明\""
   ]
  },
  {
   "cell_type": "code",
   "execution_count": 110,
   "id": "4b2234b4",
   "metadata": {},
   "outputs": [
    {
     "data": {
      "text/plain": [
       "'marry,alex,周晓明'"
      ]
     },
     "execution_count": 110,
     "metadata": {},
     "output_type": "execute_result"
    }
   ],
   "source": [
    "网三_name_list"
   ]
  },
  {
   "cell_type": "code",
   "execution_count": 108,
   "id": "90f734f9",
   "metadata": {
    "scrolled": true
   },
   "outputs": [
    {
     "ename": "AttributeError",
     "evalue": "'str' object has no attribute 'append'",
     "output_type": "error",
     "traceback": [
      "\u001b[1;31m---------------------------------------------------------------------------\u001b[0m",
      "\u001b[1;31mAttributeError\u001b[0m                            Traceback (most recent call last)",
      "\u001b[1;32m<ipython-input-108-0e38e9bab546>\u001b[0m in \u001b[0;36m<module>\u001b[1;34m\u001b[0m\n\u001b[0;32m      1\u001b[0m \u001b[1;31m# append 增加，增加元素到末尾\u001b[0m\u001b[1;33m\u001b[0m\u001b[1;33m\u001b[0m\u001b[1;33m\u001b[0m\u001b[0m\n\u001b[1;32m----> 2\u001b[1;33m \u001b[0m网三_name_list\u001b[0m\u001b[1;33m.\u001b[0m\u001b[0mappend\u001b[0m\u001b[1;33m(\u001b[0m\u001b[1;34m\"罗嘉慧\"\u001b[0m\u001b[1;33m)\u001b[0m\u001b[1;33m\u001b[0m\u001b[1;33m\u001b[0m\u001b[0m\n\u001b[0m",
      "\u001b[1;31mAttributeError\u001b[0m: 'str' object has no attribute 'append'"
     ]
    }
   ],
   "source": [
    "# append 增加，增加元素到末尾\n",
    "网三_name_list.append(\"罗嘉慧\")"
   ]
  },
  {
   "cell_type": "code",
   "execution_count": 65,
   "id": "325bdd42",
   "metadata": {},
   "outputs": [
    {
     "data": {
      "text/plain": [
       "'marry,alex,周晓明'"
      ]
     },
     "execution_count": 65,
     "metadata": {},
     "output_type": "execute_result"
    }
   ],
   "source": [
    "网三_name_list"
   ]
  },
  {
   "cell_type": "code",
   "execution_count": 66,
   "id": "17fb78a1",
   "metadata": {},
   "outputs": [
    {
     "ename": "AttributeError",
     "evalue": "'str' object has no attribute 'insert'",
     "output_type": "error",
     "traceback": [
      "\u001b[1;31m---------------------------------------------------------------------------\u001b[0m",
      "\u001b[1;31mAttributeError\u001b[0m                            Traceback (most recent call last)",
      "\u001b[1;32m<ipython-input-66-fd222ffe58d7>\u001b[0m in \u001b[0;36m<module>\u001b[1;34m\u001b[0m\n\u001b[0;32m      1\u001b[0m \u001b[1;31m# insert，增加元素到某个位置\u001b[0m\u001b[1;33m\u001b[0m\u001b[1;33m\u001b[0m\u001b[1;33m\u001b[0m\u001b[0m\n\u001b[1;32m----> 2\u001b[1;33m \u001b[0m网三_name_list\u001b[0m\u001b[1;33m.\u001b[0m\u001b[0minsert\u001b[0m\u001b[1;33m(\u001b[0m\u001b[1;36m1\u001b[0m\u001b[1;33m,\u001b[0m\u001b[1;34m\"curry\"\u001b[0m\u001b[1;33m)\u001b[0m\u001b[1;33m\u001b[0m\u001b[1;33m\u001b[0m\u001b[0m\n\u001b[0m",
      "\u001b[1;31mAttributeError\u001b[0m: 'str' object has no attribute 'insert'"
     ]
    }
   ],
   "source": [
    "# insert，增加元素到某个位置\n",
    "网三_name_list.insert(1,\"curry\")"
   ]
  },
  {
   "cell_type": "code",
   "execution_count": 64,
   "id": "ccdef758",
   "metadata": {},
   "outputs": [
    {
     "data": {
      "text/plain": [
       "'marry,alex,周晓明'"
      ]
     },
     "execution_count": 64,
     "metadata": {},
     "output_type": "execute_result"
    }
   ],
   "source": [
    "网三_name_list"
   ]
  },
  {
   "cell_type": "code",
   "execution_count": 119,
   "id": "40128aab",
   "metadata": {},
   "outputs": [
    {
     "ename": "AttributeError",
     "evalue": "'str' object has no attribute 'remove'",
     "output_type": "error",
     "traceback": [
      "\u001b[1;31m---------------------------------------------------------------------------\u001b[0m",
      "\u001b[1;31mAttributeError\u001b[0m                            Traceback (most recent call last)",
      "\u001b[1;32m<ipython-input-119-a9821ff7359b>\u001b[0m in \u001b[0;36m<module>\u001b[1;34m\u001b[0m\n\u001b[0;32m      1\u001b[0m \u001b[1;31m# remove 经常和 in 一起使用，先检查成员变量是否存在，然后再remove\u001b[0m\u001b[1;33m\u001b[0m\u001b[1;33m\u001b[0m\u001b[1;33m\u001b[0m\u001b[0m\n\u001b[0;32m      2\u001b[0m \u001b[1;32mif\u001b[0m \u001b[1;34m\"alex\"\u001b[0m \u001b[1;32min\u001b[0m \u001b[0m网三_name_list\u001b[0m\u001b[1;33m:\u001b[0m\u001b[1;33m\u001b[0m\u001b[1;33m\u001b[0m\u001b[0m\n\u001b[1;32m----> 3\u001b[1;33m     \u001b[0m网三_name_list\u001b[0m\u001b[1;33m.\u001b[0m\u001b[0mremove\u001b[0m\u001b[1;33m(\u001b[0m\u001b[1;34m\"alex\"\u001b[0m\u001b[1;33m)\u001b[0m\u001b[1;33m\u001b[0m\u001b[1;33m\u001b[0m\u001b[0m\n\u001b[0m",
      "\u001b[1;31mAttributeError\u001b[0m: 'str' object has no attribute 'remove'"
     ]
    }
   ],
   "source": [
    "# remove 经常和 in 一起使用，先检查成员变量是否存在，然后再remove\n",
    "if \"alex\" in 网三_name_list:\n",
    "    网三_name_list.remove(\"alex\")"
   ]
  },
  {
   "cell_type": "code",
   "execution_count": null,
   "id": "d4247b46",
   "metadata": {},
   "outputs": [],
   "source": [
    "# pop"
   ]
  },
  {
   "cell_type": "code",
   "execution_count": 79,
   "id": "c7530103",
   "metadata": {},
   "outputs": [
    {
     "data": {
      "text/plain": [
       "3"
      ]
     },
     "execution_count": 79,
     "metadata": {},
     "output_type": "execute_result"
    }
   ],
   "source": [
    "#  实践：请移除19的元素\n",
    "age_list = [18,19,18,19,17,20,18,19,16,17,20]\n",
    "age_list.count(19)"
   ]
  },
  {
   "cell_type": "code",
   "execution_count": 80,
   "id": "b0a4d493",
   "metadata": {},
   "outputs": [
    {
     "data": {
      "text/plain": [
       "[18, 19, 18, 19, 17, 20, 18, 19, 16, 17, 20]"
      ]
     },
     "execution_count": 80,
     "metadata": {},
     "output_type": "execute_result"
    }
   ],
   "source": [
    "age_list"
   ]
  },
  {
   "cell_type": "code",
   "execution_count": 118,
   "id": "a45c15db",
   "metadata": {},
   "outputs": [
    {
     "data": {
      "text/plain": [
       "[18, 18, 17, 20, 18, 16, 17, 20]"
      ]
     },
     "execution_count": 118,
     "metadata": {},
     "output_type": "execute_result"
    }
   ],
   "source": [
    "# 思路1：remove（value），先决条件，知道值出现的次数\n",
    "删除的数量 = age_list.count(19)\n",
    "for i in range(删除的数量):\n",
    "    if 19 in age_list:\n",
    "        age_list.remove(19)\n",
    "    age_list\n",
    "age_list"
   ]
  },
  {
   "cell_type": "code",
   "execution_count": 117,
   "id": "09bc164f",
   "metadata": {},
   "outputs": [
    {
     "data": {
      "text/plain": [
       "[18, 19, 18, 19, 17, 20, 18, 19, 16, 17, 20]"
      ]
     },
     "execution_count": 117,
     "metadata": {},
     "output_type": "execute_result"
    }
   ],
   "source": [
    "# 思路2：pop（index），先决条件，知道值出现的位置\n",
    "age_list = [18,19,18,19,17,20,18,19,16,17,20]\n",
    "age_list"
   ]
  },
  {
   "cell_type": "code",
   "execution_count": 116,
   "id": "29fc1889",
   "metadata": {},
   "outputs": [],
   "source": [
    "for i,v in enumerate(age_list):\n",
    "    if v == 19:\n",
    "        (i,v)"
   ]
  },
  {
   "cell_type": "code",
   "execution_count": null,
   "id": "340d5944",
   "metadata": {},
   "outputs": [],
   "source": [
    "# 课后练习：\n",
    "# 1.课本P86和P81\n",
    "# 2.剩下的 reserve,extend"
   ]
  },
  {
   "cell_type": "code",
   "execution_count": null,
   "id": "db6d7192",
   "metadata": {},
   "outputs": [],
   "source": []
  },
  {
   "cell_type": "code",
   "execution_count": null,
   "id": "b443b7eb",
   "metadata": {},
   "outputs": [],
   "source": []
  }
 ],
 "metadata": {
  "kernelspec": {
   "display_name": "Python 3",
   "language": "python",
   "name": "python3"
  },
  "language_info": {
   "codemirror_mode": {
    "name": "ipython",
    "version": 3
   },
   "file_extension": ".py",
   "mimetype": "text/x-python",
   "name": "python",
   "nbconvert_exporter": "python",
   "pygments_lexer": "ipython3",
   "version": "3.8.8"
  }
 },
 "nbformat": 4,
 "nbformat_minor": 5
}
